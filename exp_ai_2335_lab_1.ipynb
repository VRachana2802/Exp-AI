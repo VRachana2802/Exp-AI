{
  "nbformat": 4,
  "nbformat_minor": 0,
  "metadata": {
    "colab": {
      "provenance": [],
      "authorship_tag": "ABX9TyPfHIJChDXS2lTDlIPev1B2",
      "include_colab_link": true
    },
    "kernelspec": {
      "name": "python3",
      "display_name": "Python 3"
    },
    "language_info": {
      "name": "python"
    }
  },
  "cells": [
    {
      "cell_type": "markdown",
      "metadata": {
        "id": "view-in-github",
        "colab_type": "text"
      },
      "source": [
        "<a href=\"https://colab.research.google.com/github/VRachana2802/Exp-AI/blob/main/exp_ai_2335_lab_1.ipynb\" target=\"_parent\"><img src=\"https://colab.research.google.com/assets/colab-badge.svg\" alt=\"Open In Colab\"/></a>"
      ]
    },
    {
      "cell_type": "code",
      "execution_count": null,
      "metadata": {
        "colab": {
          "base_uri": "https://localhost:8080/"
        },
        "id": "N-QljRiaPsdl",
        "outputId": "ef6df191-8e31-485d-bb17-2e8e84ed6f91"
      },
      "outputs": [
        {
          "output_type": "stream",
          "name": "stdout",
          "text": [
            "Linear Regression Equation: y = 12.93x + 9.93\n",
            "Baseline (mean of Test Rides): 33.20\n",
            "\n",
            "Detailed Table:\n",
            "   Instagram_Reels  Test_Rides  Predicted  SHAP_Value  Baseline_plus_SHAP  \\\n",
            "0                1          20  22.857143  -10.342857           22.857143   \n",
            "1                2          35  35.785714    2.585714           35.785714   \n",
            "2                3          48  48.714286   15.514286           48.714286   \n",
            "3                1          25  22.857143  -10.342857           22.857143   \n",
            "4                2          38  35.785714    2.585714           35.785714   \n",
            "\n",
            "  Prediction_Status  \n",
            "0   Over Prediction  \n",
            "1   Over Prediction  \n",
            "2   Over Prediction  \n",
            "3  Under Prediction  \n",
            "4  Under Prediction  \n",
            "\n",
            "Summary Analysis:\n",
            "Model Accuracy (Approx): 93.52%\n",
            "Mean Squared Error: 3.76\n",
            "Trend: As Instagram reels increase, predicted test rides also increase.\n",
            "SHAP Interpretation: SHAP values show how much the number of reels contributed to changing predictions from the baseline.\n"
          ]
        }
      ],
      "source": [
        "import numpy as np\n",
        "import pandas as pd\n",
        "from sklearn.linear_model import LinearRegression\n",
        "\n",
        "data = pd.DataFrame({\n",
        "    'Instagram_Reels': [1, 2, 3, 1, 2],\n",
        "    'Test_Rides': [20, 35, 48, 25, 38]\n",
        "})\n",
        "\n",
        "X = data[['Instagram_Reels']]\n",
        "y = data['Test_Rides']\n",
        "\n",
        "\n",
        "model = LinearRegression()\n",
        "model.fit(X, y)\n",
        "\n",
        "\n",
        "slope = model.coef_[0]\n",
        "intercept = model.intercept_\n",
        "\n",
        "print(f\"Linear Regression Equation: y = {slope:.2f}x + {intercept:.2f}\")\n",
        "\n",
        "\n",
        "baseline = np.mean(y)\n",
        "print(f\"Baseline (mean of Test Rides): {baseline:.2f}\")\n",
        "\n",
        "\n",
        "data['Predicted'] = model.predict(X)\n",
        "\n",
        "\n",
        "data['SHAP_Value'] = data['Predicted'] - baseline\n",
        "\n",
        "data['Baseline_plus_SHAP'] = baseline + data['SHAP_Value']\n",
        "\n",
        "\n",
        "def prediction_status(actual, predicted):\n",
        "    if predicted > actual:\n",
        "        return \"Over Prediction\"\n",
        "    elif predicted < actual:\n",
        "        return \"Under Prediction\"\n",
        "    else:\n",
        "        return \"Exact Match\"\n",
        "\n",
        "data['Prediction_Status'] = data.apply(lambda row: prediction_status(row['Test_Rides'], row['Predicted']), axis=1)\n",
        "\n",
        "\n",
        "print(\"\\nDetailed Table:\")\n",
        "print(data)\n",
        "\n",
        "mse = np.mean((data['Predicted'] - y) ** 2)\n",
        "accuracy = 100 - (np.mean(abs(data['Predicted'] - y) / y) * 100)\n",
        "\n",
        "print(\"\\nSummary Analysis:\")\n",
        "print(f\"Model Accuracy (Approx): {accuracy:.2f}%\")\n",
        "print(f\"Mean Squared Error: {mse:.2f}\")\n",
        "print(\"Trend: As Instagram reels increase, predicted test rides also increase.\")\n",
        "print(\"SHAP Interpretation: SHAP values show how much the number of reels contributed to changing predictions from the baseline.\")"
      ]
    }
  ]
}